{
 "cells": [
  {
   "cell_type": "code",
   "execution_count": 1,
   "metadata": {},
   "outputs": [],
   "source": [
    "import pandas as pd\n",
    "from spotify_api import get_playlist_info"
   ]
  },
  {
   "cell_type": "code",
   "execution_count": 2,
   "metadata": {},
   "outputs": [
    {
     "name": "stderr",
     "output_type": "stream",
     "text": [
      "Fetching playlist tracks: 100%|██████████| 50/50 [00:10<00:00,  4.66it/s]\n"
     ]
    }
   ],
   "source": [
    "# Generate dataframe from playlist -- Pop\n",
    "pop_link = 'https://open.spotify.com/playlist/37i9dQZF1DXcBWIGoYBM5M'\n",
    "pop_df = get_playlist_info(pop_link)"
   ]
  },
  {
   "cell_type": "code",
   "execution_count": 3,
   "metadata": {},
   "outputs": [
    {
     "name": "stderr",
     "output_type": "stream",
     "text": [
      "Fetching playlist tracks: 100%|██████████| 100/100 [00:20<00:00,  4.78it/s]\n"
     ]
    }
   ],
   "source": [
    "# Generate dataframe from playlist -- Rap\n",
    "rap_link = 'https://open.spotify.com/playlist/37i9dQZF1DX48TTZL62Yht'\n",
    "rap_df = get_playlist_info(rap_link)"
   ]
  },
  {
   "cell_type": "code",
   "execution_count": 4,
   "metadata": {},
   "outputs": [
    {
     "name": "stderr",
     "output_type": "stream",
     "text": [
      "Fetching playlist tracks: 450it [01:34,  4.74it/s]                         \n"
     ]
    }
   ],
   "source": [
    "#Generate dataframe from Nikhil's playlist\n",
    "nikhil_link = 'https://open.spotify.com/playlist/1Hy9gbtq2SjksaXzaBfr1Y'\n",
    "nikhil_df = get_playlist_info(nikhil_link)"
   ]
  },
  {
   "cell_type": "code",
   "execution_count": 5,
   "metadata": {},
   "outputs": [
    {
     "name": "stderr",
     "output_type": "stream",
     "text": [
      "Fetching playlist tracks:  92%|█████████▏| 550/600 [02:15<00:12,  4.07it/s]\n"
     ]
    }
   ],
   "source": [
    "#Generate data from Weyer's playlist\n",
    "weyers_link = 'https://open.spotify.com/playlist/4O3JaVW5tSQlBXTlDSVE86'\n",
    "weyers_df = get_playlist_info(weyers_link)"
   ]
  },
  {
   "cell_type": "code",
   "execution_count": 6,
   "metadata": {},
   "outputs": [
    {
     "name": "stderr",
     "output_type": "stream",
     "text": [
      "Fetching playlist tracks:  28%|██▊       | 100/361 [00:34<01:29,  2.93it/s]\n"
     ]
    },
    {
     "ename": "TypeError",
     "evalue": "'NoneType' object is not subscriptable",
     "output_type": "error",
     "traceback": [
      "\u001b[1;31m---------------------------------------------------------------------------\u001b[0m",
      "\u001b[1;31mTypeError\u001b[0m                                 Traceback (most recent call last)",
      "Cell \u001b[1;32mIn[6], line 3\u001b[0m\n\u001b[0;32m      1\u001b[0m \u001b[39m#Generate data from Girly Pop playlist\u001b[39;00m\n\u001b[0;32m      2\u001b[0m girlie_pop_link \u001b[39m=\u001b[39m \u001b[39m'\u001b[39m\u001b[39mhttps://open.spotify.com/playlist/5WsFFLhcXth9Vl3BYKJtct\u001b[39m\u001b[39m'\u001b[39m\n\u001b[1;32m----> 3\u001b[0m girlie_pop_df \u001b[39m=\u001b[39m get_playlist_info(girlie_pop_link)\n",
      "File \u001b[1;32mc:\\Users\\nikhi\\Documents\\spotify_recommendation\\spotify_api.py:42\u001b[0m, in \u001b[0;36mget_playlist_info\u001b[1;34m(playlist_link)\u001b[0m\n\u001b[0;32m     40\u001b[0m \u001b[39m# Get additional features\u001b[39;00m\n\u001b[0;32m     41\u001b[0m features \u001b[39m=\u001b[39m sp\u001b[39m.\u001b[39maudio_features(track[\u001b[39m'\u001b[39m\u001b[39muri\u001b[39m\u001b[39m'\u001b[39m])[\u001b[39m0\u001b[39m]\n\u001b[1;32m---> 42\u001b[0m track_info[\u001b[39m'\u001b[39m\u001b[39mdanceability\u001b[39m\u001b[39m'\u001b[39m] \u001b[39m=\u001b[39m features[\u001b[39m'\u001b[39;49m\u001b[39mdanceability\u001b[39;49m\u001b[39m'\u001b[39;49m]\n\u001b[0;32m     43\u001b[0m track_info[\u001b[39m'\u001b[39m\u001b[39menergy\u001b[39m\u001b[39m'\u001b[39m] \u001b[39m=\u001b[39m features[\u001b[39m'\u001b[39m\u001b[39menergy\u001b[39m\u001b[39m'\u001b[39m]\n\u001b[0;32m     44\u001b[0m track_info[\u001b[39m'\u001b[39m\u001b[39mvalence\u001b[39m\u001b[39m'\u001b[39m] \u001b[39m=\u001b[39m features[\u001b[39m'\u001b[39m\u001b[39mvalence\u001b[39m\u001b[39m'\u001b[39m]\n",
      "\u001b[1;31mTypeError\u001b[0m: 'NoneType' object is not subscriptable"
     ]
    }
   ],
   "source": [
    "#Generate data from Girly Pop playlist\n",
    "girlie_pop_link = 'https://open.spotify.com/playlist/5WsFFLhcXth9Vl3BYKJtct'\n",
    "girlie_pop_df = get_playlist_info(girlie_pop_link)"
   ]
  },
  {
   "cell_type": "code",
   "execution_count": 8,
   "metadata": {},
   "outputs": [],
   "source": [
    "#Generate data from online preprocessed pdf\n",
    "songs_df = pd.read_csv('processed_data.csv')\n",
    "songs_df.drop(columns=['uri', 'type', 'name', 'Unnamed: 0','Unnamed: 0.1', 'pos', 'artist_uri', 'album_uri', 'id', 'duration_ms_y', 'analysis_url', 'track_href', 'track_pop'], inplace = True)\n",
    "songs_df = songs_df[['track_uri', 'track_name', 'artist_name', 'album_name', 'duration_ms_x', 'danceability', 'energy', 'valence', 'tempo', 'loudness', 'mode', 'key', 'acousticness', 'instrumentalness', 'liveness', 'speechiness', 'time_signature', 'genres', 'artist_pop']]\n",
    "songs_df['genres_list'] = songs_df['genres'].str.split()\n",
    "songs_df['genres_list'] = songs_df['genres_list'].apply(lambda x: [genre.replace('_', ' ') for genre in x])\n",
    "songs_df.drop(columns=['genres'], inplace=True)\n",
    "songs_df = songs_df[['track_uri', 'track_name', 'artist_name', 'album_name', 'duration_ms_x', 'danceability', 'energy', 'valence', 'tempo', 'loudness', 'mode', 'key', 'acousticness', 'instrumentalness', 'liveness', 'speechiness', 'time_signature', 'genres_list', 'artist_pop']]\n",
    "songs_df.rename(columns={'duration_ms_x': 'duration_ms'}, inplace=True)\n",
    "songs_df['genres_list'] = songs_df['genres_list'].apply(lambda x: str(x))"
   ]
  },
  {
   "cell_type": "code",
   "execution_count": null,
   "metadata": {},
   "outputs": [],
   "source": [
    "final = pd.concat([songs_df, pop_df, rap_df, nikhil_df, weyers_df]).to_csv('song_dataset.csv', index=False) "
   ]
  }
 ],
 "metadata": {
  "kernelspec": {
   "display_name": "Python 3",
   "language": "python",
   "name": "python3"
  },
  "language_info": {
   "codemirror_mode": {
    "name": "ipython",
    "version": 3
   },
   "file_extension": ".py",
   "mimetype": "text/x-python",
   "name": "python",
   "nbconvert_exporter": "python",
   "pygments_lexer": "ipython3",
   "version": "3.9.4"
  },
  "orig_nbformat": 4
 },
 "nbformat": 4,
 "nbformat_minor": 2
}
